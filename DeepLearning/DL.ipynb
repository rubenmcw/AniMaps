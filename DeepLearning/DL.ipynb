{
 "cells": [
  {
   "cell_type": "code",
   "execution_count": 1,
   "id": "23a3b30c",
   "metadata": {},
   "outputs": [
    {
     "name": "stderr",
     "output_type": "stream",
     "text": [
      "C:\\Program Files\\ArcGIS\\Pro\\bin\\Python\\envs\\arcgispro-py3\\lib\\site-packages\\torch\\cuda\\__init__.py:52: UserWarning: CUDA initialization: CUDA driver initialization failed, you might not have a CUDA gpu. (Triggered internally at  ..\\c10\\cuda\\CUDAFunctions.cpp:109.)\n",
      "  return torch._C._cuda_getDeviceCount() > 0\n"
     ]
    }
   ],
   "source": [
    "from arcgis.gis import GIS"
   ]
  },
  {
   "cell_type": "code",
   "execution_count": 18,
   "id": "17f41a6d",
   "metadata": {},
   "outputs": [],
   "source": [
    "gis = GIS(url=\"https://www.arcgis.com/home/item.html?id=74291969e043466996340f9db4ad2263\")"
   ]
  },
  {
   "cell_type": "code",
   "execution_count": 19,
   "id": "bffe2dae",
   "metadata": {},
   "outputs": [],
   "source": [
    "from arcgis.mapping import WebMap\n",
    "wm_item = gis.content.get('74291969e043466996340f9db4ad2263')\n",
    "\n",
    "# create a WebMap object from the existing web map item\n",
    "wm = WebMap(wm_item)"
   ]
  },
  {
   "cell_type": "code",
   "execution_count": 20,
   "id": "fbc1985e",
   "metadata": {},
   "outputs": [
    {
     "data": {
      "application/vnd.jupyter.widget-view+json": {
       "model_id": "f728e65091fd41c0b5fd6372562d7ad8",
       "version_major": 2,
       "version_minor": 0
      },
      "text/plain": [
       "MapView(hide_mode_switch=True, layout=Layout(height='400px', width='100%'))"
      ]
     },
     "metadata": {},
     "output_type": "display_data"
    },
    {
     "data": {
      "text/html": [
       "<div class=\"map-static-img-preview-85799ec9-b4c5-47a7-bfbe-6d27ced6f419\"><img src=\"\"></img></div>"
      ],
      "text/plain": [
       "<IPython.core.display.HTML object>"
      ]
     },
     "metadata": {},
     "output_type": "display_data"
    },
    {
     "data": {
      "text/html": [
       "<div class=\"map-html-embed-preview-85799ec9-b4c5-47a7-bfbe-6d27ced6f419\"></div>"
      ],
      "text/plain": [
       "<IPython.core.display.HTML object>"
      ]
     },
     "metadata": {},
     "output_type": "display_data"
    }
   ],
   "source": [
    "wm"
   ]
  },
  {
   "cell_type": "code",
   "execution_count": 21,
   "id": "5bb36f3c",
   "metadata": {},
   "outputs": [
    {
     "data": {
      "text/plain": [
       "<FeatureLayer url:\"https://services8.arcgis.com/LLNIdHmmdjO2qQ5q/arcgis/rest/services/Collection_Layer_2/FeatureServer/0\">"
      ]
     },
     "execution_count": 21,
     "metadata": {},
     "output_type": "execute_result"
    }
   ],
   "source": [
    "from arcgis.features import FeatureLayer\n",
    "layer = FeatureLayer(\"https://services8.arcgis.com/LLNIdHmmdjO2qQ5q/arcgis/rest/services/Collection_Layer_2/FeatureServer/0\")\n",
    "\n",
    "layer"
   ]
  },
  {
   "cell_type": "code",
   "execution_count": 22,
   "id": "fb6048c8",
   "metadata": {},
   "outputs": [
    {
     "data": {
      "text/plain": [
       "[{'id': 1,\n",
       "  'globalId': '45a98940-e2de-44bd-8f9f-5ede3aeed00d',\n",
       "  'parentGlobalId': '2b9d761c-0b8e-4f5f-99dc-bbc2b5d1d67d',\n",
       "  'name': 'dinosaur.jpg',\n",
       "  'contentType': 'image/jpeg',\n",
       "  'size': 237930,\n",
       "  'keywords': '',\n",
       "  'exifInfo': None}]"
      ]
     },
     "execution_count": 22,
     "metadata": {},
     "output_type": "execute_result"
    }
   ],
   "source": [
    "layer.attachments.get_list(oid=2)"
   ]
  },
  {
   "cell_type": "code",
   "execution_count": 23,
   "id": "0925fded",
   "metadata": {},
   "outputs": [],
   "source": [
    "res = layer.attachments.download(oid=2, attachment_id=1)"
   ]
  },
  {
   "cell_type": "code",
   "execution_count": 24,
   "id": "a7bacbf8",
   "metadata": {},
   "outputs": [
    {
     "data": {
      "text/plain": [
       "['C:\\\\Users\\\\rub12531\\\\AppData\\\\Local\\\\Temp\\\\1\\\\dinosaur.jpg']"
      ]
     },
     "execution_count": 24,
     "metadata": {},
     "output_type": "execute_result"
    }
   ],
   "source": [
    "res"
   ]
  },
  {
   "cell_type": "code",
   "execution_count": 35,
   "id": "457c19ef",
   "metadata": {},
   "outputs": [
    {
     "name": "stdout",
     "output_type": "stream",
     "text": [
      "tensor([[7.2215e-40, 1.0000e+00]], grad_fn=<SoftmaxBackward>)\n"
     ]
    }
   ],
   "source": [
    "# import PIL.Image\n",
    "\n",
    "# image = PIL.Image.open(res[0])\n",
    "# image\n",
    "\n",
    "\n",
    "\n",
    "img = cv2.imread(res[0], cv2.IMREAD_GRAYSCALE)\n",
    "img = cv2.resize(img, (50, 50))\n",
    "imgNPArray = np.array(img)\n",
    "\n",
    "\n",
    "Xtest = torch.Tensor([imgNPArray]).view(-1, 50, 50)\n",
    "\n",
    "passit = Xtest.view(-1,1,50,50).to(device)\n",
    "\n",
    "outputs1 = net(passit)\n",
    "print(outputs1)\n",
    "\n",
    "\n",
    "\n",
    "\n",
    "#imgNPArray\n"
   ]
  },
  {
   "cell_type": "code",
   "execution_count": 30,
   "id": "3258055f",
   "metadata": {},
   "outputs": [],
   "source": [
    "\n",
    "\n",
    "\n",
    "\n",
    "#Adapted from: https://www.youtube.com/watch?v=UuteCccDXCE&list=PLQVvvaa0QuDdeMyHEYc0gxFpYwHY2Qfdh&index=8\n",
    "\n",
    "import os\n",
    "import cv2\n",
    "import numpy as np\n",
    "from tqdm import tqdm"
   ]
  },
  {
   "cell_type": "code",
   "execution_count": 3,
   "id": "460a468b",
   "metadata": {},
   "outputs": [],
   "source": [
    "REBUILD_DATA = False"
   ]
  },
  {
   "cell_type": "code",
   "execution_count": 4,
   "id": "aaa71282",
   "metadata": {},
   "outputs": [],
   "source": [
    "class DogsVSCats():\n",
    "  IMG_SIZE = 50\n",
    "  CATS = \"C:/Users/rub12531/Downloads/archive/kagglecatsanddogs_3367a/PetImages/Cat\"\n",
    "  DOGS = \"C:/Users/rub12531/Downloads/archive/kagglecatsanddogs_3367a/PetImages/Dog\"\n",
    "  LABELS = {CATS:0,DOGS:1}\n",
    "  \n",
    "  training_data = []\n",
    "  catcount = 0\n",
    "  dogcount = 0\n",
    "  \n",
    "  def make_training_data(self):\n",
    "    for label in self.LABELS:\n",
    "      print(label)\n",
    "      for f in tqdm(os.listdir(label)):\n",
    "        try:\n",
    "          path = os.path.join(label,f)\n",
    "          img = cv2.imread(path, cv2.IMREAD_GRAYSCALE)\n",
    "          img = cv2.resize(img, (self.IMG_SIZE, self.IMG_SIZE))\n",
    "          self.training_data.append([np.array(img), np.eye(2)[self.LABELS[label]]])\n",
    "          \n",
    "          if label == self.CATS:\n",
    "            self.catcount += 1\n",
    "          elif label == self.DOGS:\n",
    "            self.dogcount += 1\n",
    "        except Exception as e:\n",
    "          pass\n",
    "          #print(str(e))\n",
    "          \n",
    "    np.random.shuffle(self.training_data)\n",
    "    np.save(\"C:/Users/rub12531/Downloads/archive/kagglecatsanddogs_3367a/PetImages/training_data.npy\", self.training_data)\n",
    "    print(\"Cats: \", self.catcount)\n",
    "    print(\"Dogs: \", self.dogcount)\n",
    "    \n",
    "if REBUILD_DATA:\n",
    "  dogsvcats = DogsVSCats()\n",
    "  dogsvcats.make_training_data()"
   ]
  },
  {
   "cell_type": "code",
   "execution_count": 5,
   "id": "983b2b33",
   "metadata": {},
   "outputs": [],
   "source": [
    "training_data = np.load(\"C:/Users/rub12531/Downloads/archive/kagglecatsanddogs_3367a/PetImages/training_data.npy\", allow_pickle=True)"
   ]
  },
  {
   "cell_type": "code",
   "execution_count": 6,
   "id": "f305aff5",
   "metadata": {},
   "outputs": [
    {
     "name": "stdout",
     "output_type": "stream",
     "text": [
      "24913\n"
     ]
    }
   ],
   "source": [
    "print(len(training_data))"
   ]
  },
  {
   "cell_type": "code",
   "execution_count": 7,
   "id": "30c34164",
   "metadata": {},
   "outputs": [
    {
     "name": "stdout",
     "output_type": "stream",
     "text": [
      "[array([[184, 186, 187, 189, ..., 181, 179, 181, 182],\n",
      "        [184, 184, 187, 187, ..., 179, 178, 181, 180],\n",
      "        [184, 186, 187, 188, ..., 178, 177, 180, 180],\n",
      "        [184, 184, 185, 187, ..., 177, 180, 179, 180],\n",
      "        ...,\n",
      "        [ 16,  17,  15,  15, ..., 167, 170, 168, 169],\n",
      "        [ 13,  13,  12,  12, ..., 167, 168, 166, 168],\n",
      "        [ 11,  10,   9,  10, ..., 167, 167, 166, 167],\n",
      "        [  8,   8,   8,   9, ..., 168, 167, 165, 167]], dtype=uint8) array([1., 0.])]\n"
     ]
    }
   ],
   "source": [
    "print(training_data[0])"
   ]
  },
  {
   "cell_type": "code",
   "execution_count": 8,
   "id": "84a14047",
   "metadata": {},
   "outputs": [
    {
     "data": {
      "image/png": "[encoded data removed]",
      "text/plain": [
       "<Figure size 432x288 with 1 Axes>"
      ]
     },
     "metadata": {
      "needs_background": "light"
     },
     "output_type": "display_data"
    },
    {
     "name": "stdout",
     "output_type": "stream",
     "text": [
      "[1. 0.]\n"
     ]
    }
   ],
   "source": [
    "import matplotlib.pyplot as plt\n",
    "%matplotlib inline\n",
    "plt.imshow(training_data[1][0])\n",
    "plt.show()\n",
    "print(training_data[1][1])"
   ]
  },
  {
   "cell_type": "code",
   "execution_count": 9,
   "id": "b8f72bb5",
   "metadata": {},
   "outputs": [],
   "source": [
    "import torch\n",
    "import torch.nn as nn\n",
    "import torch.nn.functional as F\n",
    "\n",
    "class Net(nn.Module):\n",
    "  def __init__(self):\n",
    "    super().__init__()\n",
    "    self.conv1 = nn.Conv2d(1, 32, 5)\n",
    "    self.conv2 = nn.Conv2d(32, 64, 5)\n",
    "    self.conv3 = nn.Conv2d(64, 128, 5)\n",
    "    x = torch.randn(50,50).view(-1,1,50,50)\n",
    "    self._to_linear = None\n",
    "    self.convs(x)\n",
    "    self.fc1 = nn.Linear(self._to_linear, 512)\n",
    "    self.fc2 = nn.Linear(512, 2)\n",
    "  def convs(self, x):\n",
    "    x = F.max_pool2d(F.relu(self.conv1(x)), (2,2))\n",
    "    x = F.max_pool2d(F.relu(self.conv2(x)), (2,2))\n",
    "    x = F.max_pool2d(F.relu(self.conv3(x)), (2,2))\n",
    "    if self._to_linear is None:\n",
    "      self._to_linear = x[0].shape[0]*x[0].shape[1]*x[0].shape[2]\n",
    "    return x\n",
    "  def forward(self, x):\n",
    "    x = self.convs(x)\n",
    "    x = x.view(-1, self._to_linear)\n",
    "    x = F.relu(self.fc1(x))\n",
    "    x = self.fc2(x)\n",
    "    return F.softmax(x, dim=1)"
   ]
  },
  {
   "cell_type": "code",
   "execution_count": 10,
   "id": "86f0c32b",
   "metadata": {},
   "outputs": [],
   "source": [
    "device = torch.device(\"cpu\")\n",
    "net = Net().to(device)"
   ]
  },
  {
   "cell_type": "code",
   "execution_count": 11,
   "id": "9decbcc1",
   "metadata": {},
   "outputs": [
    {
     "name": "stdout",
     "output_type": "stream",
     "text": [
      "2491\n"
     ]
    }
   ],
   "source": [
    "import torch.optim as optim\n",
    "optimizer = optim.Adam(net.parameters(), lr=0.001)\n",
    "loss_function = nn.MSELoss()\n",
    "\n",
    "X = torch.Tensor([i[0] for i in training_data]).view(-1, 50, 50)\n",
    "X = X/255.0\n",
    "y = torch.Tensor([i[1] for i in training_data])\n",
    "\n",
    "VAL_PCT = 0.1\n",
    "val_size = int(len(X)*VAL_PCT)\n",
    "print(val_size)"
   ]
  },
  {
   "cell_type": "code",
   "execution_count": 12,
   "id": "e93fa332",
   "metadata": {},
   "outputs": [
    {
     "name": "stdout",
     "output_type": "stream",
     "text": [
      "22422\n",
      "2491\n"
     ]
    }
   ],
   "source": [
    "train_X = X[:-val_size]\n",
    "train_y = y[:-val_size]\n",
    "\n",
    "test_X = X[-val_size:]\n",
    "test_y = y[-val_size:]\n",
    "\n",
    "print(len(train_X))\n",
    "print(len(test_X))"
   ]
  },
  {
   "cell_type": "code",
   "execution_count": 13,
   "id": "dbef74d1",
   "metadata": {},
   "outputs": [],
   "source": [
    "def fwd_pass(X, y, train=False):\n",
    "  if train:\n",
    "    net.zero_grad()\n",
    "  outputs = net(X)\n",
    "  matches = [torch.argmax(i) == torch.argmax(j) for i, j in zip(outputs, y)]\n",
    "  acc = matches.count(True)/len(matches)\n",
    "  loss = loss_function(outputs, y)\n",
    "\n",
    "  if train:\n",
    "    loss.backward()\n",
    "    optimizer.step()\n",
    "\n",
    "  return acc, loss"
   ]
  },
  {
   "cell_type": "code",
   "execution_count": 14,
   "id": "da1710ed",
   "metadata": {},
   "outputs": [
    {
     "name": "stdout",
     "output_type": "stream",
     "text": [
      "0.625 tensor(0.2497)\n"
     ]
    }
   ],
   "source": [
    "import numpy as np\n",
    "def test(size=32):\n",
    "  random_start = np.random.randint(len(test_X)-size)\n",
    "  X, y = test_X[random_start:random_start+size], test_y[random_start:random_start+size] \n",
    "  with torch.no_grad():\n",
    "    val_acc, val_loss = fwd_pass(X.view(-1, 1, 50, 50).to(device), y.to(device))\n",
    "  return val_acc, val_loss\n",
    "  \n",
    "val_acc, val_loss = test()\n",
    "print(val_acc, val_loss)"
   ]
  },
  {
   "cell_type": "code",
   "execution_count": 15,
   "id": "e7366e54",
   "metadata": {},
   "outputs": [
    {
     "name": "stdout",
     "output_type": "stream",
     "text": [
      "model-1658683654\n"
     ]
    },
    {
     "name": "stderr",
     "output_type": "stream",
     "text": [
      "100%|████████████████████████████████████████████████████████████████████████████████| 225/225 [01:42<00:00,  2.19it/s]\n",
      "100%|████████████████████████████████████████████████████████████████████████████████| 225/225 [01:25<00:00,  2.64it/s]\n",
      "100%|████████████████████████████████████████████████████████████████████████████████| 225/225 [01:18<00:00,  2.87it/s]\n",
      "100%|████████████████████████████████████████████████████████████████████████████████| 225/225 [01:18<00:00,  2.86it/s]\n",
      "100%|████████████████████████████████████████████████████████████████████████████████| 225/225 [01:19<00:00,  2.84it/s]\n",
      "100%|████████████████████████████████████████████████████████████████████████████████| 225/225 [01:21<00:00,  2.75it/s]\n",
      "100%|████████████████████████████████████████████████████████████████████████████████| 225/225 [01:21<00:00,  2.74it/s]\n",
      "100%|████████████████████████████████████████████████████████████████████████████████| 225/225 [01:19<00:00,  2.85it/s]\n"
     ]
    }
   ],
   "source": [
    "import time\n",
    "\n",
    "MODEL_NAME = f\"model-{int(time.time())}\"\n",
    "\n",
    "net = Net().to(device)\n",
    "optimizer = optim.Adam(net.parameters(), lr=0.001)\n",
    "loss_function = nn.MSELoss()\n",
    "\n",
    "print(MODEL_NAME)\n",
    "\n",
    "def train():\n",
    "  BATCH_SIZE = 100\n",
    "  EPOCHS = 8 \n",
    "  with open(\"C:/Users/rub12531/Downloads/archive/kagglecatsanddogs_3367a/PetImages/model.log\", \"a\") as f:\n",
    "    for epoch in range(EPOCHS):\n",
    "      for i in tqdm(range(0, len(train_X), BATCH_SIZE)):\n",
    "        batch_X = train_X[i:i+BATCH_SIZE].view(-1,1,50,50).to(device)\n",
    "        batch_y = train_y[i:i+BATCH_SIZE].to(device)\n",
    "        \n",
    "        acc, loss = fwd_pass(batch_X, batch_y, train=True)\n",
    "        if i % 50 == 0:\n",
    "          val_acc, val_loss = test(size=100)\n",
    "          f.write(f\"{MODEL_NAME},{round(time.time(),3)},{round(float(acc),2)},{round(float(loss),4)},{round(float(val_loss),4)},{round(float(val_loss),4)}\\n\")\n",
    "          \n",
    "train()"
   ]
  },
  {
   "cell_type": "code",
   "execution_count": 16,
   "id": "0418ba7a",
   "metadata": {},
   "outputs": [
    {
     "name": "stdout",
     "output_type": "stream",
     "text": [
      "tensor([[0.9847, 0.0153]], grad_fn=<SoftmaxBackward>)\n"
     ]
    }
   ],
   "source": [
    "testing = train_X[21:22].view(-1,1,50,50).to(device)\n",
    "outputs = net(testing)\n",
    "print(outputs)\n"
   ]
  },
  {
   "cell_type": "code",
   "execution_count": 17,
   "id": "ce19de83",
   "metadata": {},
   "outputs": [
    {
     "data": {
      "image/png": "[encoded data removed]",
      "text/plain": [
       "<Figure size 432x288 with 1 Axes>"
      ]
     },
     "metadata": {
      "needs_background": "light"
     },
     "output_type": "display_data"
    },
    {
     "name": "stdout",
     "output_type": "stream",
     "text": [
      "tensor([[1., 0.]])\n"
     ]
    }
   ],
   "source": [
    "res = train_X[21:22]\n",
    "lab = train_y[21:22]\n",
    "\n",
    "ima = np.array(res[0])\n",
    "\n",
    "%matplotlib inline\n",
    "plt.imshow(ima)\n",
    "plt.show()\n",
    "\n",
    "print(lab)"
   ]
  },
  {
   "cell_type": "code",
   "execution_count": null,
   "id": "76e36fcb",
   "metadata": {},
   "outputs": [],
   "source": []
  }
 ],
 "metadata": {
  "kernelspec": {
   "display_name": "Python 3",
   "language": "python",
   "name": "python3"
  },
  "language_info": {
   "codemirror_mode": {
    "name": "ipython",
    "version": 3
   },
   "file_extension": ".py",
   "mimetype": "text/x-python",
   "name": "python",
   "nbconvert_exporter": "python",
   "pygments_lexer": "ipython3",
   "version": "3.7.11"
  }
 },
 "nbformat": 4,
 "nbformat_minor": 5
}
