{
 "cells": [
  {
   "cell_type": "code",
   "execution_count": 1,
   "id": "05c686b7",
   "metadata": {},
   "outputs": [],
   "source": [
    "#Adapted from: https://www.youtube.com/watch?v=UuteCccDXCE&list=PLQVvvaa0QuDdeMyHEYc0gxFpYwHY2Qfdh&index=8\n",
    "\n",
    "import os\n",
    "import cv2\n",
    "import numpy as np\n",
    "from tqdm import tqdm"
   ]
  },
  {
   "cell_type": "code",
   "execution_count": 2,
   "id": "7e101aa1",
   "metadata": {},
   "outputs": [],
   "source": [
    "REBUILD_DATA = True"
   ]
  },
  {
   "cell_type": "code",
   "execution_count": 3,
   "id": "47af9495",
   "metadata": {},
   "outputs": [
    {
     "name": "stdout",
     "output_type": "stream",
     "text": [
      "C:/Users/rub12531/Downloads/archive/kagglecatsanddogs_3367a/PetImages/Cat\n"
     ]
    },
    {
     "name": "stderr",
     "output_type": "stream",
     "text": [
      "100%|███████████████████████████████████████████████████████████████████████████| 12491/12491 [00:44<00:00, 278.63it/s]\n"
     ]
    },
    {
     "name": "stdout",
     "output_type": "stream",
     "text": [
      "C:/Users/rub12531/Downloads/archive/kagglecatsanddogs_3367a/PetImages/Dog\n"
     ]
    },
    {
     "name": "stderr",
     "output_type": "stream",
     "text": [
      "100%|███████████████████████████████████████████████████████████████████████████| 12470/12470 [00:48<00:00, 259.36it/s]\n",
      "C:\\Program Files\\ArcGIS\\Pro\\bin\\Python\\envs\\arcgispro-py3\\lib\\site-packages\\numpy\\core\\_asarray.py:171: VisibleDeprecationWarning: Creating an ndarray from ragged nested sequences (which is a list-or-tuple of lists-or-tuples-or ndarrays with different lengths or shapes) is deprecated. If you meant to do this, you must specify 'dtype=object' when creating the ndarray.\n",
      "  return array(a, dtype, copy=False, order=order, subok=True)\n"
     ]
    },
    {
     "name": "stdout",
     "output_type": "stream",
     "text": [
      "Cats:  12469\n",
      "Dogs:  12444\n"
     ]
    }
   ],
   "source": [
    "class DogsVSCats():\n",
    "  IMG_SIZE = 50\n",
    "  CATS = \"C:/Users/rub12531/Downloads/archive/kagglecatsanddogs_3367a/PetImages/Cat\"\n",
    "  DOGS = \"C:/Users/rub12531/Downloads/archive/kagglecatsanddogs_3367a/PetImages/Dog\"\n",
    "  LABELS = {CATS:0,DOGS:1}\n",
    "  \n",
    "  training_data = []\n",
    "  catcount = 0\n",
    "  dogcount = 0\n",
    "  \n",
    "  def make_training_data(self):\n",
    "    for label in self.LABELS:\n",
    "      print(label)\n",
    "      for f in tqdm(os.listdir(label)):\n",
    "        try:\n",
    "          path = os.path.join(label,f)\n",
    "          img = cv2.imread(path, cv2.IMREAD_GRAYSCALE)\n",
    "          img = cv2.resize(img, (self.IMG_SIZE, self.IMG_SIZE))\n",
    "          self.training_data.append([np.array(img), np.eye(2)[self.LABELS[label]]])\n",
    "          \n",
    "          if label == self.CATS:\n",
    "            self.catcount += 1\n",
    "          elif label == self.DOGS:\n",
    "            self.dogcount += 1\n",
    "        except Exception as e:\n",
    "          pass\n",
    "          #print(str(e))\n",
    "          \n",
    "    np.random.shuffle(self.training_data)\n",
    "    np.save(\"C:/Users/rub12531/Downloads/archive/kagglecatsanddogs_3367a/PetImages/training_data.npy\", self.training_data)\n",
    "    print(\"Cats: \", self.catcount)\n",
    "    print(\"Dogs: \", self.dogcount)\n",
    "    \n",
    "if REBUILD_DATA:\n",
    "  dogsvcats = DogsVSCats()\n",
    "  dogsvcats.make_training_data()"
   ]
  },
  {
   "cell_type": "code",
   "execution_count": 4,
   "id": "c3868ef0",
   "metadata": {},
   "outputs": [],
   "source": [
    "training_data = np.load(\"C:/Users/rub12531/Downloads/archive/kagglecatsanddogs_3367a/PetImages/training_data.npy\", allow_pickle=True)"
   ]
  },
  {
   "cell_type": "code",
   "execution_count": 5,
   "id": "2081224f",
   "metadata": {},
   "outputs": [
    {
     "name": "stdout",
     "output_type": "stream",
     "text": [
      "24913\n"
     ]
    }
   ],
   "source": [
    "print(len(training_data))"
   ]
  },
  {
   "cell_type": "code",
   "execution_count": 6,
   "id": "7cd00012",
   "metadata": {},
   "outputs": [
    {
     "name": "stdout",
     "output_type": "stream",
     "text": [
      "[array([[159, 159, 161, ..., 136, 133, 132],\n",
      "        [158, 162, 163, ..., 137, 137, 137],\n",
      "        [161, 160, 162, ..., 140, 138, 137],\n",
      "        ...,\n",
      "        [201, 204, 205, ..., 192, 209, 150],\n",
      "        [205, 204, 203, ...,  39,  37,  35],\n",
      "        [204, 205, 199, ...,  90,  75,  30]], dtype=uint8) array([1., 0.])]\n"
     ]
    }
   ],
   "source": [
    "print(training_data[0])"
   ]
  },
  {
   "cell_type": "code",
   "execution_count": 7,
   "id": "1c8b5995",
   "metadata": {},
   "outputs": [
    {
     "data": {
      "image/png": "[encoded data removed]",
      "text/plain": [
       "<Figure size 432x288 with 1 Axes>"
      ]
     },
     "metadata": {
      "needs_background": "light"
     },
     "output_type": "display_data"
    },
    {
     "name": "stdout",
     "output_type": "stream",
     "text": [
      "[0. 1.]\n"
     ]
    }
   ],
   "source": [
    "import matplotlib.pyplot as plt\n",
    "%matplotlib inline\n",
    "plt.imshow(training_data[1][0])\n",
    "plt.show()\n",
    "print(training_data[1][1])"
   ]
  },
  {
   "cell_type": "code",
   "execution_count": 8,
   "id": "b9af8bdd",
   "metadata": {},
   "outputs": [],
   "source": [
    "import torch\n",
    "import torch.nn as nn\n",
    "import torch.nn.functional as F\n",
    "\n",
    "class Net(nn.Module):\n",
    "  def __init__(self):\n",
    "    super().__init__()\n",
    "    self.conv1 = nn.Conv2d(1, 32, 5)\n",
    "    self.conv2 = nn.Conv2d(32, 64, 5)\n",
    "    self.conv3 = nn.Conv2d(64, 128, 5)\n",
    "    x = torch.randn(50,50).view(-1,1,50,50)\n",
    "    self._to_linear = None\n",
    "    self.convs(x)\n",
    "    self.fc1 = nn.Linear(self._to_linear, 512)\n",
    "    self.fc2 = nn.Linear(512, 2)\n",
    "  def convs(self, x):\n",
    "    x = F.max_pool2d(F.relu(self.conv1(x)), (2,2))\n",
    "    x = F.max_pool2d(F.relu(self.conv2(x)), (2,2))\n",
    "    x = F.max_pool2d(F.relu(self.conv3(x)), (2,2))\n",
    "    if self._to_linear is None:\n",
    "      self._to_linear = x[0].shape[0]*x[0].shape[1]*x[0].shape[2]\n",
    "    return x\n",
    "  def forward(self, x):\n",
    "    x = self.convs(x)\n",
    "    x = x.view(-1, self._to_linear)\n",
    "    x = F.relu(self.fc1(x))\n",
    "    x = self.fc2(x)\n",
    "    return F.softmax(x, dim=1)"
   ]
  },
  {
   "cell_type": "code",
   "execution_count": 10,
   "id": "98f00b89",
   "metadata": {},
   "outputs": [],
   "source": [
    "device = torch.device(\"cpu\")\n",
    "net = Net().to(device)"
   ]
  },
  {
   "cell_type": "code",
   "execution_count": 11,
   "id": "54e64c98",
   "metadata": {},
   "outputs": [
    {
     "name": "stdout",
     "output_type": "stream",
     "text": [
      "2491\n"
     ]
    }
   ],
   "source": [
    "import torch.optim as optim\n",
    "optimizer = optim.Adam(net.parameters(), lr=0.001)\n",
    "loss_function = nn.MSELoss()\n",
    "\n",
    "X = torch.Tensor([i[0] for i in training_data]).view(-1, 50, 50)\n",
    "X = X/255.0\n",
    "y = torch.Tensor([i[1] for i in training_data])\n",
    "\n",
    "VAL_PCT = 0.1\n",
    "val_size = int(len(X)*VAL_PCT)\n",
    "print(val_size)"
   ]
  },
  {
   "cell_type": "code",
   "execution_count": 12,
   "id": "a2edb96a",
   "metadata": {},
   "outputs": [
    {
     "name": "stdout",
     "output_type": "stream",
     "text": [
      "22422\n",
      "2491\n"
     ]
    }
   ],
   "source": [
    "train_X = X[:-val_size]\n",
    "train_y = y[:-val_size]\n",
    "\n",
    "test_X = X[-val_size:]\n",
    "test_y = y[-val_size:]\n",
    "\n",
    "print(len(train_X))\n",
    "print(len(test_X))"
   ]
  },
  {
   "cell_type": "code",
   "execution_count": 13,
   "id": "aa435901",
   "metadata": {},
   "outputs": [],
   "source": [
    "def fwd_pass(X, y, train=False):\n",
    "  if train:\n",
    "    net.zero_grad()\n",
    "  outputs = net(X)\n",
    "  matches = [torch.argmax(i) == torch.argmax(j) for i, j in zip(outputs, y)]\n",
    "  acc = matches.count(True)/len(matches)\n",
    "  loss = loss_function(outputs, y)\n",
    "\n",
    "  if train:\n",
    "    loss.backward()\n",
    "    optimizer.step()\n",
    "\n",
    "  return acc, loss"
   ]
  },
  {
   "cell_type": "code",
   "execution_count": 14,
   "id": "683183d9",
   "metadata": {},
   "outputs": [
    {
     "name": "stdout",
     "output_type": "stream",
     "text": [
      "0.5625 tensor(0.2482)\n"
     ]
    }
   ],
   "source": [
    "import numpy as np\n",
    "def test(size=32):\n",
    "  random_start = np.random.randint(len(test_X)-size)\n",
    "  X, y = test_X[random_start:random_start+size], test_y[random_start:random_start+size] \n",
    "  with torch.no_grad():\n",
    "    val_acc, val_loss = fwd_pass(X.view(-1, 1, 50, 50).to(device), y.to(device))\n",
    "  return val_acc, val_loss\n",
    "  \n",
    "val_acc, val_loss = test()\n",
    "print(val_acc, val_loss)"
   ]
  },
  {
   "cell_type": "code",
   "execution_count": 15,
   "id": "ab08dba4",
   "metadata": {},
   "outputs": [
    {
     "name": "stdout",
     "output_type": "stream",
     "text": [
      "model-1658601658\n"
     ]
    },
    {
     "name": "stderr",
     "output_type": "stream",
     "text": [
      "  0%|                                                                                          | 0/225 [00:00<?, ?it/s]C:\\Program Files\\ArcGIS\\Pro\\bin\\Python\\envs\\arcgispro-py3\\lib\\site-packages\\torch\\autograd\\__init__.py:147: UserWarning: CUDA initialization: CUDA driver initialization failed, you might not have a CUDA gpu. (Triggered internally at  ..\\c10\\cuda\\CUDAFunctions.cpp:109.)\n",
      "  allow_unreachable=True, accumulate_grad=True)  # allow_unreachable flag\n",
      "100%|████████████████████████████████████████████████████████████████████████████████| 225/225 [01:41<00:00,  2.21it/s]\n",
      "100%|████████████████████████████████████████████████████████████████████████████████| 225/225 [01:51<00:00,  2.02it/s]\n",
      "100%|████████████████████████████████████████████████████████████████████████████████| 225/225 [01:41<00:00,  2.23it/s]\n",
      "100%|████████████████████████████████████████████████████████████████████████████████| 225/225 [01:45<00:00,  2.14it/s]\n",
      "100%|████████████████████████████████████████████████████████████████████████████████| 225/225 [01:47<00:00,  2.10it/s]\n",
      "100%|████████████████████████████████████████████████████████████████████████████████| 225/225 [01:44<00:00,  2.15it/s]\n",
      "100%|████████████████████████████████████████████████████████████████████████████████| 225/225 [01:55<00:00,  1.94it/s]\n",
      "100%|████████████████████████████████████████████████████████████████████████████████| 225/225 [02:06<00:00,  1.78it/s]\n"
     ]
    }
   ],
   "source": [
    "import time\n",
    "\n",
    "MODEL_NAME = f\"model-{int(time.time())}\"\n",
    "\n",
    "net = Net().to(device)\n",
    "optimizer = optim.Adam(net.parameters(), lr=0.001)\n",
    "loss_function = nn.MSELoss()\n",
    "\n",
    "print(MODEL_NAME)\n",
    "\n",
    "def train():\n",
    "  BATCH_SIZE = 100\n",
    "  EPOCHS = 8 \n",
    "  with open(\"C:/Users/rub12531/Downloads/archive/kagglecatsanddogs_3367a/PetImages/model.log\", \"a\") as f:\n",
    "    for epoch in range(EPOCHS):\n",
    "      for i in tqdm(range(0, len(train_X), BATCH_SIZE)):\n",
    "        batch_X = train_X[i:i+BATCH_SIZE].view(-1,1,50,50).to(device)\n",
    "        batch_y = train_y[i:i+BATCH_SIZE].to(device)\n",
    "        \n",
    "        acc, loss = fwd_pass(batch_X, batch_y, train=True)\n",
    "        if i % 50 == 0:\n",
    "          val_acc, val_loss = test(size=100)\n",
    "          f.write(f\"{MODEL_NAME},{round(time.time(),3)},{round(float(acc),2)},{round(float(loss),4)},{round(float(val_loss),4)},{round(float(val_loss),4)}\\n\")\n",
    "          \n",
    "train()"
   ]
  },
  {
   "cell_type": "code",
   "execution_count": 54,
   "id": "eceaaf43",
   "metadata": {},
   "outputs": [
    {
     "name": "stdout",
     "output_type": "stream",
     "text": [
      "tensor([[0.0503, 0.9497]], grad_fn=<SoftmaxBackward>)\n"
     ]
    }
   ],
   "source": [
    "testing = train_X[21:22].view(-1,1,50,50).to(device)\n",
    "outputs = net(testing)\n",
    "print(outputs)\n"
   ]
  },
  {
   "cell_type": "code",
   "execution_count": 55,
   "id": "aa0e4ffd",
   "metadata": {},
   "outputs": [
    {
     "data": {
      "image/png": "[encoded data removed]",
      "text/plain": [
       "<Figure size 432x288 with 1 Axes>"
      ]
     },
     "metadata": {
      "needs_background": "light"
     },
     "output_type": "display_data"
    },
    {
     "name": "stdout",
     "output_type": "stream",
     "text": [
      "tensor([[0., 1.]])\n"
     ]
    }
   ],
   "source": [
    "res = train_X[21:22]\n",
    "lab = train_y[21:22]\n",
    "\n",
    "ima = np.array(res[0])\n",
    "\n",
    "%matplotlib inline\n",
    "plt.imshow(ima)\n",
    "plt.show()\n",
    "\n",
    "print(lab)"
   ]
  },
  {
   "cell_type": "code",
   "execution_count": null,
   "id": "afc4ecf8",
   "metadata": {},
   "outputs": [],
   "source": []
  }
 ],
 "metadata": {
  "kernelspec": {
   "display_name": "Python 3",
   "language": "python",
   "name": "python3"
  },
  "language_info": {
   "codemirror_mode": {
    "name": "ipython",
    "version": 3
   },
   "file_extension": ".py",
   "mimetype": "text/x-python",
   "name": "python",
   "nbconvert_exporter": "python",
   "pygments_lexer": "ipython3",
   "version": "3.7.11"
  }
 },
 "nbformat": 4,
 "nbformat_minor": 5
}
